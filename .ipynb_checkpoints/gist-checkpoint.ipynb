{
 "cells": [
  {
   "cell_type": "code",
   "execution_count": 3,
   "id": "6bac4741",
   "metadata": {},
   "outputs": [
    {
     "name": "stderr",
     "output_type": "stream",
     "text": [
      "[nltk_data] Downloading package punkt to\n",
      "[nltk_data]     /Users/zachobront/nltk_data...\n",
      "[nltk_data]   Package punkt is already up-to-date!\n"
     ]
    }
   ],
   "source": [
    "from bs4 import BeautifulSoup\n",
    "import requests\n",
    "import re\n",
    "\n",
    "import ipywidgets as widgets\n",
    "from ipywidgets import interact, interact_manual\n",
    "\n",
    "import nltk\n",
    "nltk.download('punkt')\n",
    "from nltk.tokenize import sent_tokenize\n",
    "from nltk.corpus import stopwords\n",
    "stop_words = stopwords.words('english')\n",
    "\n",
    "import numpy as np\n",
    "import pandas as pd\n",
    "import networkx as nx\n",
    "from sklearn.metrics.pairwise import cosine_similarity"
   ]
  },
  {
   "cell_type": "code",
   "execution_count": 14,
   "id": "8dc2e196",
   "metadata": {},
   "outputs": [],
   "source": [
    "word_embeddings = {}\n",
    "\n",
    "f = open('glove/glove.6B.100d.shortened.txt', encoding='utf-8')\n",
    "for line in f:\n",
    "    x = line.split()\n",
    "    word = x[0]\n",
    "    coefs = np.asarray(x[1:], dtype='float32')\n",
    "    word_embeddings[word] = coefs\n",
    "f.close()"
   ]
  },
  {
   "cell_type": "code",
   "execution_count": 15,
   "id": "66d00aaa",
   "metadata": {},
   "outputs": [],
   "source": [
    "def get_text(url):    \n",
    "    req = requests.get(url)\n",
    "    soup = BeautifulSoup(req.text, 'html.parser')\n",
    "    content = soup.find_all(\"div\", class_=\"content\")\n",
    "    text = content[0].get_text()\n",
    "    return text\n",
    "\n",
    "def clean_text(text):\n",
    "    sentences = [x for x in sent_tokenize(text)]\n",
    "    cleanish = [s.lower() for s in pd.Series(sentences).str.replace(\"[^a-zA-Z]\", \" \")]\n",
    "    clean = [\" \".join([word for word in sentence.split() if word not in stop_words]) for sentence in cleanish]\n",
    "    return sentences, clean\n",
    "\n",
    "def create_sentence_vecs(text):\n",
    "    sen_vecs = []\n",
    "    for sentence in text:\n",
    "        if len(sentence) != 0:\n",
    "            sen_sum = sum([word_embeddings.get(word, np.zeros((100,))) for word in sentence])\n",
    "            v = sen_sum / (len(sentence.split()) + 0.001)\n",
    "        else:\n",
    "            v = np.zeros((100,))\n",
    "        sen_vecs.append(v)\n",
    "    return sen_vecs\n",
    "\n",
    "def calculate_rankings(sentences, sen_vecs):\n",
    "    sim_mat = np.zeros([len(sentences), len(sentences)])\n",
    "    for i in range(len(sentences)):\n",
    "        for j in range(len(sentences)):\n",
    "            if i != j:\n",
    "                sim_mat[i][j] = cosine_similarity(sen_vecs[i].reshape(1, 100), sen_vecs[j].reshape(1, 100))[0, 0]\n",
    "    nx_graph = nx.from_numpy_array(sim_mat)\n",
    "    scores = nx.pagerank(nx_graph)\n",
    "    ranked_sentences = sorted(((scores[i], s) for i, s in enumerate(sentences)), reverse=True)\n",
    "    output = [s for (i, s) in ranked_sentences]\n",
    "    return output"
   ]
  },
  {
   "cell_type": "code",
   "execution_count": 16,
   "id": "40d36e39",
   "metadata": {},
   "outputs": [],
   "source": [
    "def create_summary(url, points=1):\n",
    "    text = get_text(url)\n",
    "    sentences, clean = clean_text(text)\n",
    "    sen_vecs = create_sentence_vecs(clean)\n",
    "    output = calculate_rankings(sentences, sen_vecs)\n",
    "    return output[:points]"
   ]
  },
  {
   "cell_type": "code",
   "execution_count": 17,
   "id": "08570759",
   "metadata": {},
   "outputs": [
    {
     "name": "stderr",
     "output_type": "stream",
     "text": [
      "/var/folders/tr/1rjkx94n6c1828_rtg_cmxcc0000gn/T/ipykernel_73064/2743847663.py:10: FutureWarning: The default value of regex will change from True to False in a future version.\n",
      "  cleanish = [s.lower() for s in pd.Series(sentences).str.replace(\"[^a-zA-Z]\", \" \")]\n"
     ]
    },
    {
     "name": "stdout",
     "output_type": "stream",
     "text": [
      "You’ll follow in-depth conversations between doctor and patient, learn about the history of MDMA-assisted therapy, understand how and why it helps, and experience the process for yourself, without ever having to take anything.\n",
      "\n"
     ]
    }
   ],
   "source": [
    "s1 = create_summary('https://authorhour.co/a-dose-of-hope-dr-dan-engle/')\n",
    "\n",
    "for bullet in s1:\n",
    "    print(bullet)\n",
    "    print()"
   ]
  }
 ],
 "metadata": {
  "kernelspec": {
   "display_name": "Python 3 (ipykernel)",
   "language": "python",
   "name": "python3"
  },
  "language_info": {
   "codemirror_mode": {
    "name": "ipython",
    "version": 3
   },
   "file_extension": ".py",
   "mimetype": "text/x-python",
   "name": "python",
   "nbconvert_exporter": "python",
   "pygments_lexer": "ipython3",
   "version": "3.9.5"
  }
 },
 "nbformat": 4,
 "nbformat_minor": 5
}
